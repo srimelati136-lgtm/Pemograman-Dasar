{
  "nbformat": 4,
  "nbformat_minor": 0,
  "metadata": {
    "colab": {
      "provenance": [],
      "toc_visible": true,
      "authorship_tag": "ABX9TyP20pgIlmvEiBIrICWJpVye",
      "include_colab_link": true
    },
    "kernelspec": {
      "name": "python3",
      "display_name": "Python 3"
    },
    "language_info": {
      "name": "python"
    }
  },
  "cells": [
    {
      "cell_type": "markdown",
      "metadata": {
        "id": "view-in-github",
        "colab_type": "text"
      },
      "source": [
        "<a href=\"https://colab.research.google.com/github/srimelati136-lgtm/Pemograman-Dasar/blob/main/LAPORAN_PRATIKUM_2_SAMUEL_MANURUNG.ipynb\" target=\"_parent\"><img src=\"https://colab.research.google.com/assets/colab-badge.svg\" alt=\"Open In Colab\"/></a>"
      ]
    },
    {
      "cell_type": "code",
      "execution_count": null,
      "metadata": {
        "id": "D_zyT9LGG51C"
      },
      "outputs": [],
      "source": []
    },
    {
      "cell_type": "code",
      "execution_count": 6,
      "metadata": {
        "colab": {
          "base_uri": "https://localhost:8080/"
        },
        "id": "O9_i3klgVvcT",
        "outputId": "a7a71c56-d2a5-4e02-8ec8-7684fa37b0ec"
      },
      "outputs": [
        {
          "output_type": "stream",
          "name": "stdout",
          "text": [
            "Samuel\n",
            "Manurung\n",
            "20\n",
            "False\n"
          ]
        }
      ],
      "source": [
        "firstname = \"Samuel\"\n",
        "lastname = \"Manurung\"\n",
        "umur = 20\n",
        "ismarried = False\n",
        "\n",
        "\n",
        "print (firstname)\n",
        "print (lastname)\n",
        "print (umur)\n",
        "print (ismarried)\n"
      ]
    },
    {
      "cell_type": "code",
      "source": [
        "data_diri = {\"firstname\" : 'Samuel' , \"lastname\" : 'Manurung' , \"age\" : 20 , \"isMarried\" : False }\n",
        "\n",
        "print (data_diri[\"firstname\"])\n",
        "print (data_diri[\"lastname\"])\n",
        "print (data_diri[\"age\"])\n",
        "print (data_diri[\"isMarried\"])"
      ],
      "metadata": {
        "colab": {
          "base_uri": "https://localhost:8080/"
        },
        "id": "d8G12J-MMdSu",
        "outputId": "e4b7e7cc-7148-44e6-e447-0f47c7be5581"
      },
      "execution_count": 16,
      "outputs": [
        {
          "output_type": "stream",
          "name": "stdout",
          "text": [
            "Samuel\n",
            "Manurung\n",
            "20\n",
            "False\n"
          ]
        }
      ]
    },
    {
      "cell_type": "code",
      "source": [
        "daftar_inspeksi = [\"Pemahaman terhadap rencana dan desain\", \"Ketersediaan bahan dan peralatan\", \"Pengawasan pekerjaan\", \"Kualitas kontruksi\", \"Keselamatan kerja\", \"Koordinasi dengan pemilik proyek\"]\n",
        "\n",
        "print (daftar_inspeksi[0])\n",
        "print (daftar_inspeksi[1])\n",
        "print (daftar_inspeksi[2])\n",
        "print (daftar_inspeksi[3])\n",
        "print (daftar_inspeksi[4])\n",
        "print (daftar_inspeksi[5])"
      ],
      "metadata": {
        "colab": {
          "base_uri": "https://localhost:8080/"
        },
        "id": "7FXCEVRwPFeD",
        "outputId": "158eae7d-cdb7-4bef-8085-fd384549a2dd"
      },
      "execution_count": 25,
      "outputs": [
        {
          "output_type": "stream",
          "name": "stdout",
          "text": [
            "Pemahaman terhadap rencana dan desain\n",
            "Ketersediaan bahan dan peralatan\n",
            "Pengawasan pekerjaan\n",
            "Kualitas kontruksi\n",
            "Keselamatan kerja\n",
            "Koordinasi dengan pemilik proyek\n"
          ]
        }
      ]
    },
    {
      "cell_type": "code",
      "source": [
        "startTime = { \"HH\" : 9, \"mm\" : 23, \"ss\" : 57 }\n",
        "endTime = { \"HH\" : 15, \"mm\" : 25, \"ss\" : 43}\n",
        "print (startTime[\"HH\"])\n",
        "print (startTime[\"mm\"])\n",
        "print (startTime[\"ss\"])\n",
        "\n",
        "print (endTime[\"HH\"])\n",
        "print (endTime[\"mm\"])\n",
        "print (endTime[\"ss\"])"
      ],
      "metadata": {
        "colab": {
          "base_uri": "https://localhost:8080/"
        },
        "id": "8PHwtN-rRvRF",
        "outputId": "39e5e71a-b1e8-49a0-e02d-628854e4557d"
      },
      "execution_count": 28,
      "outputs": [
        {
          "output_type": "stream",
          "name": "stdout",
          "text": [
            "9\n",
            "23\n",
            "57\n",
            "15\n",
            "25\n",
            "43\n"
          ]
        }
      ]
    },
    {
      "cell_type": "code",
      "source": [
        "katalog_indomaret = {'kecap', 'indomie', 'micellar water', 'fanta' }\n",
        "katalog_alfamart = {'cocacola', 'indomie', 'sosiskanzler', 'micellar water' }\n",
        "\n",
        "# Katalog Lengkap\n",
        "union = katalog_indomaret.union(katalog_alfamart)\n",
        "\n",
        "intersection = katalog_indomaret.intersection(katalog_alfamart)\n",
        "\n",
        "print (\"union:\", union)\n",
        "print (\"ntersection:\", intersection)"
      ],
      "metadata": {
        "colab": {
          "base_uri": "https://localhost:8080/"
        },
        "id": "uq1c8jCbSmq6",
        "outputId": "88ede488-b2a4-4574-b0b8-3512c4750b8d"
      },
      "execution_count": 29,
      "outputs": [
        {
          "output_type": "stream",
          "name": "stdout",
          "text": [
            "union: {'cocacola', 'micellar water', 'fanta', 'sosiskanzler', 'indomie', 'kecap'}\n",
            "ntersection: {'indomie', 'micellar water'}\n"
          ]
        }
      ]
    }
  ]
}