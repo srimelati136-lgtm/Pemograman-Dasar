{
  "nbformat": 4,
  "nbformat_minor": 0,
  "metadata": {
    "colab": {
      "provenance": [],
      "authorship_tag": "ABX9TyNho0J6siHFAM3pwYQEBA8J",
      "include_colab_link": true
    },
    "kernelspec": {
      "name": "python3",
      "display_name": "Python 3"
    },
    "language_info": {
      "name": "python"
    }
  },
  "cells": [
    {
      "cell_type": "markdown",
      "metadata": {
        "id": "view-in-github",
        "colab_type": "text"
      },
      "source": [
        "<a href=\"https://colab.research.google.com/github/srimelati136-lgtm/Pemograman-Dasar/blob/main/Laporan_6_Pemrograman_Dasar_Samuel_Manurung_4232411036.ipynb\" target=\"_parent\"><img src=\"https://colab.research.google.com/assets/colab-badge.svg\" alt=\"Open In Colab\"/></a>"
      ]
    },
    {
      "cell_type": "code",
      "source": [
        "# SOAL 1: Fungsi Inisialisasi Sederhana\n",
        "def sapa_praktikan():\n",
        "    \"\"\"Mencetak pesan sambutan dasar.\"\"\"\n",
        "    print(\"Halo Tuan, Berikut Data Diri Anda!.\")\n",
        "\n",
        "# Pemanggilan:\n",
        "sapa_praktikan()\n",
        "\n",
        "# Modifikasi: Fungsi Biodata Lengkap\n",
        "def Biodata():\n",
        "    \"\"\"Menampilkan biodata lengkap praktikan.\"\"\"\n",
        "    print(\"\\n=== BIODATA PRAKTIKAN ===\")\n",
        "    print(\"Nama     : Samuel Manurung\")\n",
        "    print(\"NIM      : 4232411036\")\n",
        "    print(\"Jurusan  : Teknik Rekayasa Pembangkit Energi\")\n",
        "    print(\"Kampus   : Politeknik Batam\")\n",
        "    print(\"Email    : samuelmanurung083191962496@gmail.com\")\n",
        "    print(\"Hobi     : Beladiri, Musik, \")\n",
        "\n",
        "# Pemanggilan fungsi Biodata\n",
        "Biodata()"
      ],
      "metadata": {
        "colab": {
          "base_uri": "https://localhost:8080/"
        },
        "id": "lUiRT0EVjExF",
        "outputId": "324b1aa5-c8e9-4e19-d5de-c0181708f015"
      },
      "execution_count": null,
      "outputs": [
        {
          "output_type": "stream",
          "name": "stdout",
          "text": [
            "Halo Tuan, Berikut Data Diri Anda!.\n",
            "\n",
            "=== BIODATA PRAKTIKAN ===\n",
            "Nama     : Samuel Manurung\n",
            "NIM      : 4232411036\n",
            "Jurusan  : Teknik Rekayasa Pembangkit Energi\n",
            "Kampus   : Politeknik Batam\n",
            "Email    : samuelmanurung083191962496@gmail.com\n",
            "Hobi     : Beladiri, Musik, \n"
          ]
        }
      ]
    },
    {
      "cell_type": "code",
      "source": [
        "# SOAL 2: Menghitung Volume Balok\n",
        "def hitung_volume_balok(panjang, lebar, tinggi):\n",
        "    \"\"\"Menghitung volume balok dari panjang, lebar, dan tingginya.\"\"\"\n",
        "    return panjang * lebar * tinggi\n",
        "\n",
        "# Pemanggilan:\n",
        "panjang = 5\n",
        "lebar = 3\n",
        "tinggi = 4\n",
        "print(f\"Volume balok dengan panjang {panjang}, lebar {lebar}, dan tinggi {tinggi} adalah: {hitung_volume_balok(panjang, lebar, tinggi)}\")"
      ],
      "metadata": {
        "id": "rY9Eck3JitwA",
        "colab": {
          "base_uri": "https://localhost:8080/"
        },
        "outputId": "fc6a5cc2-63dc-4b8c-d106-b8ca3d03a29e"
      },
      "execution_count": 2,
      "outputs": [
        {
          "output_type": "stream",
          "name": "stdout",
          "text": [
            "Volume balok dengan panjang 5, lebar 3, dan tinggi 4 adalah: 60\n"
          ]
        }
      ]
    },
    {
      "cell_type": "code",
      "source": [
        "# SOAL 3: Menghitung Rata-rata dari List Nilai\n",
        "def hitung_rata_rata(data_nilai):\n",
        "    \"\"\"Menghitung rata-rata dari list angka menggunakan perulangan for dengan pengecekan nilai valid.\"\"\"\n",
        "    total = 0\n",
        "    count = 0  # Menghitung jumlah nilai yang valid\n",
        "\n",
        "    # Perulangan untuk menjumlahkan nilai dengan pengecekan\n",
        "    for nilai in data_nilai:\n",
        "        # Pengecekan apakah nilai berada dalam rentang 0-100\n",
        "        if nilai >= 0 and nilai <= 100:\n",
        "            total += nilai\n",
        "            count += 1\n",
        "        else:\n",
        "            print(f\"Peringatan: Nilai {nilai} diabaikan karena di luar rentang 0-100\")\n",
        "\n",
        "    # Pembagian untuk rata-rata\n",
        "    if count > 0:\n",
        "        return total / count\n",
        "    return 0\n",
        "\n",
        "# Pemanggilan:\n",
        "nilai_praktikan = [85, 78, 92, 65, 90, 105, -5]  # Ditambahkan nilai tidak valid untuk testing\n",
        "print(f\"Nilai rata-rata kelas adalah: {hitung_rata_rata(nilai_praktikan)}\")"
      ],
      "metadata": {
        "colab": {
          "base_uri": "https://localhost:8080/"
        },
        "id": "LTNp_P8TrsYz",
        "outputId": "f423e712-05c1-47d5-e354-42da7e56b16a"
      },
      "execution_count": 3,
      "outputs": [
        {
          "output_type": "stream",
          "name": "stdout",
          "text": [
            "Peringatan: Nilai 105 diabaikan karena di luar rentang 0-100\n",
            "Peringatan: Nilai -5 diabaikan karena di luar rentang 0-100\n",
            "Nilai rata-rata kelas adalah: 82.0\n"
          ]
        }
      ]
    },
    {
      "cell_type": "code",
      "source": [
        "# SOAL 4: Sistem Penentuan Predikat Nilai\n",
        "def tentukan_predikat(skor):\n",
        "    \"\"\"Menentukan predikat (A, B, C, D, E) berdasarkan skor dengan pengecekan tipe data.\"\"\"\n",
        "    # Pengecekan tipe data - hanya menerima int atau float\n",
        "    if not isinstance(skor, (int, float)):\n",
        "        return \"Error: Input harus berupa angka (int/float)\"\n",
        "\n",
        "    # Pengecekan rentang nilai valid\n",
        "    if skor < 0 or skor > 100:\n",
        "        return \"Error: Skor harus antara 0-100\"\n",
        "\n",
        "    # Penentuan predikat berdasarkan skor\n",
        "    if skor >= 85:\n",
        "        return \"A\"\n",
        "    elif skor >= 70:  # 70-84\n",
        "        return \"B\"\n",
        "    elif skor >= 60:  # 60-69\n",
        "        return \"C\"\n",
        "    elif skor >= 50:  # 50-59\n",
        "        return \"D\"\n",
        "    else:             # <50\n",
        "        return \"E\"\n",
        "\n",
        "# Pemanggilan:\n",
        "print(f\"Skor 75 mendapat predikat: {tentukan_predikat(75)}\")\n",
        "print(f\"Skor 48 mendapat predikat: {tentukan_predikat(48)}\")\n",
        "print(f\"Skor 92 mendapat predikat: {tentukan_predikat(92)}\")\n",
        "print(f\"Skor 65 mendapat predikat: {tentukan_predikat(65)}\")\n",
        "print(f\"Skor 55 mendapat predikat: {tentukan_predikat(55)}\")\n",
        "\n",
        "# Testing dengan input tidak valid\n",
        "print(f\"Input 'abc' mendapat: {tentukan_predikat('abc')}\")\n",
        "print(f\"Skor 105 mendapat: {tentukan_predikat(105)}\")\n",
        "print(f\"Skor -10 mendapat: {tentukan_predikat(-10)}\")"
      ],
      "metadata": {
        "colab": {
          "base_uri": "https://localhost:8080/"
        },
        "id": "3yBj7xxytYTy",
        "outputId": "0d56c94e-eca9-4efa-9c0c-fa480fc9372a"
      },
      "execution_count": 4,
      "outputs": [
        {
          "output_type": "stream",
          "name": "stdout",
          "text": [
            "Skor 75 mendapat predikat: B\n",
            "Skor 48 mendapat predikat: E\n",
            "Skor 92 mendapat predikat: A\n",
            "Skor 65 mendapat predikat: C\n",
            "Skor 55 mendapat predikat: D\n",
            "Input 'abc' mendapat: Error: Input harus berupa angka (int/float)\n",
            "Skor 105 mendapat: Error: Skor harus antara 0-100\n",
            "Skor -10 mendapat: Error: Skor harus antara 0-100\n"
          ]
        }
      ]
    },
    {
      "cell_type": "code",
      "source": [
        "# SOAL 5: Menghitung Faktorial dengan Loop While\n",
        "def hitung_faktorial(n):\n",
        "    \"\"\"Menghitung faktorial dari bilangan positif n.\"\"\"\n",
        "    # Penanganan kasus khusus\n",
        "    if n < 0:\n",
        "        return \"Error: Faktorial tidak terdefinisi untuk bilangan negatif\"\n",
        "    elif n == 0:\n",
        "        return 1  # 0! = 1\n",
        "\n",
        "    hasil = 1\n",
        "\n",
        "    # Perulangan berjalan selama n lebih besar dari 0\n",
        "    while n > 1:\n",
        "        hasil *= n\n",
        "        n -= 1  # Kurangi n\n",
        "\n",
        "    return hasil\n",
        "\n",
        "# Pemanggilan:\n",
        "bilangan_n = 4\n",
        "print(f\"Faktorial dari {bilangan_n} adalah: {hitung_faktorial(bilangan_n)}\")  # Output: 24\n",
        "\n",
        "# Testing dengan kasus khusus\n",
        "print(f\"Faktorial dari 0 adalah: {hitung_faktorial(0)}\")      # Output: 1\n",
        "print(f\"Faktorial dari -5 adalah: {hitung_faktorial(-5)}\")    # Output: Error message\n",
        "print(f\"Faktorial dari 1 adalah: {hitung_faktorial(1)}\")      # Output: 1\n",
        "print(f\"Faktorial dari 5 adalah: {hitung_faktorial(5)}\")      # Output: 120"
      ],
      "metadata": {
        "colab": {
          "base_uri": "https://localhost:8080/"
        },
        "id": "9vL2bI0wvJah",
        "outputId": "58c71190-3a23-46db-cec0-23659eb59b9d"
      },
      "execution_count": 5,
      "outputs": [
        {
          "output_type": "stream",
          "name": "stdout",
          "text": [
            "Faktorial dari 4 adalah: 24\n",
            "Faktorial dari 0 adalah: 1\n",
            "Faktorial dari -5 adalah: Error: Faktorial tidak terdefinisi untuk bilangan negatif\n",
            "Faktorial dari 1 adalah: 1\n",
            "Faktorial dari 5 adalah: 120\n"
          ]
        }
      ]
    },
    {
      "cell_type": "code",
      "source": [
        "# SOAL 6: Analisis Data Suhu Ekstrem (for dan if/elif)\n",
        "def analisis_suhu(data_suhu, batas_panas=35, batas_dingin=15):\n",
        "    \"\"\"Menghitung jumlah hari Panas dan Dingin dari data_suhu dengan batas yang dapat disesuaikan.\"\"\"\n",
        "    panas_count = 0\n",
        "    dingin_count = 0  # Inisialisasi penghitung hari dingin\n",
        "\n",
        "    for suhu in data_suhu:\n",
        "        if suhu >= batas_panas:\n",
        "            panas_count += 1\n",
        "        elif suhu <= batas_dingin:  # Kondisi untuk hari dingin\n",
        "            dingin_count += 1\n",
        "\n",
        "    return panas_count, dingin_count\n",
        "\n",
        "# Pemanggilan dengan nilai default:\n",
        "suhu_mingguan = [36, 30, 14, 25, 38, 16, 28]\n",
        "jumlah_panas, jumlah_dingin = analisis_suhu(suhu_mingguan)\n",
        "print(f\"Jumlah hari Panas (>=35°C): {jumlah_panas}\")\n",
        "print(f\"Jumlah hari Dingin (<=15°C): {jumlah_dingin}\")\n",
        "\n",
        "# Pemanggilan dengan batas kustom:\n",
        "print(\"\\nDengan batas kustom:\")\n",
        "jumlah_panas_kustom, jumlah_dingin_kustom = analisis_suhu(suhu_mingguan, batas_panas=30, batas_dingin=20)\n",
        "print(f\"Jumlah hari Panas (>=30°C): {jumlah_panas_kustom}\")\n",
        "print(f\"Jumlah hari Dingin (<=20°C): {jumlah_dingin_kustom}\")"
      ],
      "metadata": {
        "colab": {
          "base_uri": "https://localhost:8080/"
        },
        "id": "nc5gf2lRwh4B",
        "outputId": "f79ce20b-d6ed-4075-9ad2-7dd5743fa1c3"
      },
      "execution_count": 6,
      "outputs": [
        {
          "output_type": "stream",
          "name": "stdout",
          "text": [
            "Jumlah hari Panas (>=35°C): 2\n",
            "Jumlah hari Dingin (<=15°C): 1\n",
            "\n",
            "Dengan batas kustom:\n",
            "Jumlah hari Panas (>=30°C): 3\n",
            "Jumlah hari Dingin (<=20°C): 2\n"
          ]
        }
      ]
    }
  ]
}