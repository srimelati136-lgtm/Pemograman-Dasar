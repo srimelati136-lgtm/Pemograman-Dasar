{
  "nbformat": 4,
  "nbformat_minor": 0,
  "metadata": {
    "colab": {
      "provenance": [],
      "authorship_tag": "ABX9TyN+zPPc8Jao5BUyABni6udj",
      "include_colab_link": true
    },
    "kernelspec": {
      "name": "python3",
      "display_name": "Python 3"
    },
    "language_info": {
      "name": "python"
    }
  },
  "cells": [
    {
      "cell_type": "markdown",
      "metadata": {
        "id": "view-in-github",
        "colab_type": "text"
      },
      "source": [
        "<a href=\"https://colab.research.google.com/github/srimelati136-lgtm/Pemograman-Dasar/blob/main/Tugas1.ipynb\" target=\"_parent\"><img src=\"https://colab.research.google.com/assets/colab-badge.svg\" alt=\"Open In Colab\"/></a>"
      ]
    },
    {
      "cell_type": "code",
      "execution_count": 16,
      "metadata": {
        "colab": {
          "base_uri": "https://localhost:8080/"
        },
        "id": "O9_i3klgVvcT",
        "outputId": "0515d7d2-0fd3-418a-b2fd-7a95ef6e880d"
      },
      "outputs": [
        {
          "output_type": "stream",
          "name": "stdout",
          "text": [
            "nama = Samuel\n",
            "umur = 20\n",
            "jurusan = RPE\n",
            "semester = 3\n",
            "matakuliah = pemograman dasar\n",
            "status_lulus = False\n"
          ]
        }
      ],
      "source": [
        "nama = \"Samuel\"\n",
        "umur = 20\n",
        "jurusan = \"RPE\"\n",
        "semester = 3\n",
        "matakuliah = 'pemograman dasar'\n",
        "status_lulus = False\n",
        "\n",
        "\n",
        "print (\"nama =\",nama)\n",
        "print (\"umur =\",umur)\n",
        "print (\"jurusan =\",jurusan )\n",
        "print (\"semester =\",semester)\n",
        "print (\"matakuliah =\",matakuliah)\n",
        "print (\"status_lulus =\",status_lulus)\n"
      ]
    }
  ]
}