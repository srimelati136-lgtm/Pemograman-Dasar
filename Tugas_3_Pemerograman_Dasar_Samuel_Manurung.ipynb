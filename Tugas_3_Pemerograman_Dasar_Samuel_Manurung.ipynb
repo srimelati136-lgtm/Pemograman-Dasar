{
  "nbformat": 4,
  "nbformat_minor": 0,
  "metadata": {
    "colab": {
      "provenance": [],
      "authorship_tag": "ABX9TyNW6K1esCRwYEUTy+ecyXc6",
      "include_colab_link": true
    },
    "kernelspec": {
      "name": "python3",
      "display_name": "Python 3"
    },
    "language_info": {
      "name": "python"
    }
  },
  "cells": [
    {
      "cell_type": "markdown",
      "metadata": {
        "id": "view-in-github",
        "colab_type": "text"
      },
      "source": [
        "<a href=\"https://colab.research.google.com/github/srimelati136-lgtm/Pemograman-Dasar/blob/main/Tugas_3_Pemerograman_Dasar_Samuel_Manurung.ipynb\" target=\"_parent\"><img src=\"https://colab.research.google.com/assets/colab-badge.svg\" alt=\"Open In Colab\"/></a>"
      ]
    },
    {
      "cell_type": "code",
      "source": [
        "# Program Kasir Sederhana Kedai Kopi\n",
        "print(\"=== PROGRAM KASIR KEDAI KOPI ===\")\n",
        "\n",
        "# Input data pelanggan\n",
        "nama_pelanggan = input(\"Masukkan nama pelanggan: \")\n",
        "is_member = input(\"Apakah pelanggan member? (y/t): \").lower() == 'y'\n",
        "\n",
        "# Input item yang dibeli\n",
        "jumlah_item = int(input(\"Berapa jumlah item yang dibeli? \"))\n",
        "subtotal = 0\n",
        "\n",
        "for i in range(jumlah_item):\n",
        "    nama_item = input(f\"Masukkan nama item ke-{i+1}: \")\n",
        "    harga_item = float(input(f\"Masukkan harga {nama_item}: Rp \"))\n",
        "    subtotal += harga_item\n",
        "\n",
        "print(f\"\\nSubtotal belanja: Rp {subtotal:,.2f}\")\n",
        "\n",
        "# Evaluasi syarat diskon\n",
        "if is_member and subtotal > 100000:\n",
        "    diskon = subtotal * 0.15\n",
        "    print(f\"Selamat! Anda mendapatkan diskon 15%: Rp {diskon:,.2f}\")\n",
        "else:\n",
        "    diskon = 0\n",
        "    print(\"Tidak ada diskon yang diterapkan\")\n",
        "\n",
        "# Hitung harga setelah diskon\n",
        "harga_setelah_diskon = subtotal - diskon\n",
        "print(f\"Harga setelah diskon: Rp {harga_setelah_diskon:,.2f}\")\n",
        "\n",
        "# Hitung PPN\n",
        "ppn = harga_setelah_diskon * 0.11\n",
        "print(f\"PPN (11%): Rp {ppn:,.2f}\")\n",
        "\n",
        "# Hitung total akhir\n",
        "total_akhir = harga_setelah_diskon + ppn\n",
        "print(f\"Total akhir: Rp {total_akhir:,.2f}\")\n",
        "\n",
        "print(\"\\nTerima kasih telah berbelanja!\")"
      ],
      "metadata": {
        "colab": {
          "base_uri": "https://localhost:8080/"
        },
        "id": "nD2o_1bWeXO4",
        "outputId": "e1ee317c-3164-4465-f16b-756844acc20f"
      },
      "execution_count": 1,
      "outputs": [
        {
          "output_type": "stream",
          "name": "stdout",
          "text": [
            "=== PROGRAM KASIR KEDAI KOPI ===\n",
            "Masukkan nama pelanggan: Samuel\n",
            "Apakah pelanggan member? (y/t): ya\n",
            "Berapa jumlah item yang dibeli? 3\n",
            "Masukkan nama item ke-1: Nasi Goreng\n",
            "Masukkan harga Nasi Goreng: Rp 13000\n",
            "Masukkan nama item ke-2: Teh Obeng\n",
            "Masukkan harga Teh Obeng: Rp 8000\n",
            "Masukkan nama item ke-3: Roti Tawar\n",
            "Masukkan harga Roti Tawar: Rp 4000\n",
            "\n",
            "Subtotal belanja: Rp 25,000.00\n",
            "Tidak ada diskon yang diterapkan\n",
            "Harga setelah diskon: Rp 25,000.00\n",
            "PPN (11%): Rp 2,750.00\n",
            "Total akhir: Rp 27,750.00\n",
            "\n",
            "Terima kasih telah berbelanja!\n"
          ]
        }
      ]
    }
  ]
}