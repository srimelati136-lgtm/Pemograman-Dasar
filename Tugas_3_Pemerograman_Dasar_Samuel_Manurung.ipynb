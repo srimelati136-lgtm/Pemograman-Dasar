{
  "nbformat": 4,
  "nbformat_minor": 0,
  "metadata": {
    "colab": {
      "provenance": [],
      "authorship_tag": "ABX9TyN7LQ0A/kmccihyOOQcivYx",
      "include_colab_link": true
    },
    "kernelspec": {
      "name": "python3",
      "display_name": "Python 3"
    },
    "language_info": {
      "name": "python"
    }
  },
  "cells": [
    {
      "cell_type": "markdown",
      "metadata": {
        "id": "view-in-github",
        "colab_type": "text"
      },
      "source": [
        "<a href=\"https://colab.research.google.com/github/srimelati136-lgtm/Pemograman-Dasar/blob/main/Tugas_3_Pemerograman_Dasar_Samuel_Manurung.ipynb\" target=\"_parent\"><img src=\"https://colab.research.google.com/assets/colab-badge.svg\" alt=\"Open In Colab\"/></a>"
      ]
    },
    {
      "cell_type": "code",
      "execution_count": 3,
      "metadata": {
        "colab": {
          "base_uri": "https://localhost:8080/"
        },
        "id": "8E6fUIKU0rhG",
        "outputId": "47f8acfc-351c-4319-d88d-015bfdd98444"
      },
      "outputs": [
        {
          "output_type": "stream",
          "name": "stdout",
          "text": [
            "PROGRAM KASIR KEDAI KOPI\n",
            "\n",
            "Masukkan jumlah item yang dibeli: 3\n",
            "\n",
            "Masukkan harga item ke-1: Rp 40000\n",
            "Masukkan harga item ke-2: Rp 50000\n",
            "Masukkan harga item ke-3: Rp 20000\n",
            "\n",
            "--------------------------------------------------\n",
            "Apakah pelanggan adalah member? (ya/tidak): ya\n",
            "\n",
            "==================================================\n",
            "RINCIAN PEMBAYARAN\n",
            "==================================================\n",
            "Subtotal               : Rp 110,000.00\n",
            "Status Member          : Ya\n",
            "Dapat Diskon 15%       : Ya\n",
            "Jumlah Diskon          : Rp 16,500.00\n",
            "Harga Setelah Diskon   : Rp 93,500.00\n",
            "PPN (11%)              : Rp 10,285.00\n",
            "--------------------------------------------------\n",
            "TOTAL AKHIR            : Rp 103,785.00\n",
            "==================================================\n",
            "\n",
            "Terima kasih telah berbelanja!\n"
          ]
        }
      ],
      "source": [
        "print(\"PROGRAM KASIR KEDAI KOPI\")\n",
        "print()\n",
        "\n",
        "# Input data\n",
        "jumlah_item = int(input(\"Masukkan jumlah item yang dibeli: \"))\n",
        "print()\n",
        "\n",
        "total_harga = 0\n",
        "\n",
        "for i in range(1, jumlah_item + 1):\n",
        "    harga = float(input(f\"Masukkan harga item ke-{i}: Rp \"))\n",
        "    total_harga += harga\n",
        "\n",
        "print()\n",
        "print(\"-\" * 50)\n",
        "\n",
        "status_member = input(\"Apakah pelanggan adalah member? (ya/tidak): \").lower()\n",
        "is_member = status_member == \"ya\"\n",
        "\n",
        "dapat_diskon = is_member and total_harga > 100000\n",
        "\n",
        "if dapat_diskon:\n",
        "    jumlah_diskon = total_harga * 0.15\n",
        "else:\n",
        "    jumlah_diskon = 0\n",
        "\n",
        "harga_setelah_diskon = total_harga - jumlah_diskon\n",
        "\n",
        "ppn = harga_setelah_diskon * 0.11\n",
        "\n",
        "total_akhir = harga_setelah_diskon + ppn\n",
        "\n",
        "print()\n",
        "print(\"=\" * 50)\n",
        "print(\"RINCIAN PEMBAYARAN\")\n",
        "print(\"=\" * 50)\n",
        "print(f\"Subtotal               : Rp {total_harga:,.2f}\")\n",
        "print(f\"Status Member          : {'Ya' if is_member else 'Tidak'}\")\n",
        "print(f\"Dapat Diskon 15%       : {'Ya' if dapat_diskon else 'Tidak'}\")\n",
        "print(f\"Jumlah Diskon          : Rp {jumlah_diskon:,.2f}\")\n",
        "print(f\"Harga Setelah Diskon   : Rp {harga_setelah_diskon:,.2f}\")\n",
        "print(f\"PPN (11%)              : Rp {ppn:,.2f}\")\n",
        "print(\"-\" * 50)\n",
        "print(f\"TOTAL AKHIR            : Rp {total_akhir:,.2f}\")\n",
        "print(\"=\" * 50)\n",
        "print()\n",
        "print(\"Terima kasih telah berbelanja!\")"
      ]
    }
  ]
}