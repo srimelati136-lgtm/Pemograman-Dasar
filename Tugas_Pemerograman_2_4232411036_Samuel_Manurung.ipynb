{
  "nbformat": 4,
  "nbformat_minor": 0,
  "metadata": {
    "colab": {
      "provenance": [],
      "authorship_tag": "ABX9TyNNOBP1ejExJabmg4IULMm6",
      "include_colab_link": true
    },
    "kernelspec": {
      "name": "python3",
      "display_name": "Python 3"
    },
    "language_info": {
      "name": "python"
    }
  },
  "cells": [
    {
      "cell_type": "markdown",
      "metadata": {
        "id": "view-in-github",
        "colab_type": "text"
      },
      "source": [
        "<a href=\"https://colab.research.google.com/github/srimelati136-lgtm/Pemograman-Dasar/blob/main/Tugas_Pemerograman_2_4232411036_Samuel_Manurung.ipynb\" target=\"_parent\"><img src=\"https://colab.research.google.com/assets/colab-badge.svg\" alt=\"Open In Colab\"/></a>"
      ]
    },
    {
      "cell_type": "code",
      "execution_count": 1,
      "metadata": {
        "colab": {
          "base_uri": "https://localhost:8080/"
        },
        "id": "cxUXPcBneK72",
        "outputId": "4c1c3ef5-ec5c-4f9a-b252-97b1eabf6ef4"
      },
      "outputs": [
        {
          "output_type": "stream",
          "name": "stdout",
          "text": [
            "43\n"
          ]
        }
      ],
      "source": [
        "# deklarasi variabel list\n",
        "numbers = [23, 43, 15, 34]\n",
        "# cara mengakses elemen dalam variabel list\n",
        "numbers [0] #23\n",
        "numbers [1] #43\n",
        "numbers [2] #15\n",
        "numbers [3] #34\n",
        "# cara mengubah nilai elemen dalam variabel list\n",
        "numbers[2] #51\n",
        "numbers[2] #51\n",
        "\n",
        "print (numbers[1]) #lakukan untuk setiap indeksnya dan lihat hasilnya"
      ]
    },
    {
      "cell_type": "code",
      "source": [
        "# deklarasi variabel list numbers\n",
        "numbers = [1, 2, 3]\n",
        "\n",
        "# menambahkan elemen di indeks ke-4\n",
        "numbers.insert(4, 5) #b[1, 2, 3, 5]\n",
        "\n",
        "# mengubah elemen di indeks ke-4\n",
        "numbers[3] = 4 # [1, 2, 4]\n",
        "\n",
        "# mengubah elemen di indeks ke-2\n",
        "numbers.pop(2) # [1, 2, 4]\n",
        "\n",
        "#print lalu lihat hasilnya"
      ],
      "metadata": {
        "colab": {
          "base_uri": "https://localhost:8080/"
        },
        "id": "nhZTMON3fPjl",
        "outputId": "f3c61505-12b5-4fad-81ef-936ed7f11da4"
      },
      "execution_count": 3,
      "outputs": [
        {
          "output_type": "execute_result",
          "data": {
            "text/plain": [
              "3"
            ]
          },
          "metadata": {},
          "execution_count": 3
        }
      ]
    }
  ]
}