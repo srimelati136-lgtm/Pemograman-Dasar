{
  "nbformat": 4,
  "nbformat_minor": 0,
  "metadata": {
    "colab": {
      "provenance": [],
      "authorship_tag": "ABX9TyNJcUEBwzrU/pLhBBfu+b5y",
      "include_colab_link": true
    },
    "kernelspec": {
      "name": "python3",
      "display_name": "Python 3"
    },
    "language_info": {
      "name": "python"
    }
  },
  "cells": [
    {
      "cell_type": "markdown",
      "metadata": {
        "id": "view-in-github",
        "colab_type": "text"
      },
      "source": [
        "<a href=\"https://colab.research.google.com/github/srimelati136-lgtm/Pemograman-Dasar/blob/main/Tugas_Pertemuan_4_Pemerograman_Dasar__Samuel_Manurung.ipynb\" target=\"_parent\"><img src=\"https://colab.research.google.com/assets/colab-badge.svg\" alt=\"Open In Colab\"/></a>"
      ]
    },
    {
      "cell_type": "code",
      "execution_count": 2,
      "metadata": {
        "id": "Dbtm_QlJk-Ks",
        "colab": {
          "base_uri": "https://localhost:8080/"
        },
        "outputId": "c231975f-21ae-4090-cc70-a64018e3c29a"
      },
      "outputs": [
        {
          "output_type": "stream",
          "name": "stdout",
          "text": [
            "Pengunjung adalah orang dewasa.\n"
          ]
        }
      ],
      "source": [
        "# Variabel untuk menyimpan umur pengunjung\n",
        "umur: int = 20\n",
        "\n",
        "# Program hanya akan mencetak pesan jika umur di atas 17\n",
        "if umur > 17:\n",
        "    print(\"Pengunjung adalah orang dewasa.\")"
      ]
    },
    {
      "cell_type": "code",
      "source": [
        "username = input(\"Masukkan username: \")\n",
        "password = input(\"Masukkan password: \")\n",
        "if username == \"admin\" and password == \"1234\":\n",
        "    print(\"Login berhasil\")\n",
        "else:\n",
        "    print(\"Login gagal\")"
      ],
      "metadata": {
        "colab": {
          "base_uri": "https://localhost:8080/"
        },
        "id": "v-8XfEwVdlRW",
        "outputId": "e9989be5-953e-4378-d4db-d8bc759c35f7"
      },
      "execution_count": 5,
      "outputs": [
        {
          "output_type": "stream",
          "name": "stdout",
          "text": [
            "Masukkan username: Samuel\n",
            "Masukkan password: 1234\n",
            "Login gagal\n"
          ]
        }
      ]
    },
    {
      "cell_type": "code",
      "source": [
        "# program untuk mengecek bonus dan diskon\n",
        "total_belanja = input(\"Total belanja: Rp \")\n",
        "# jumlah yang harus dibayar adalah berapa total belanjaannya\n",
        "# tapi kalau dapat diskon akan berkurang\n",
        "bayar = int(total_belanja)\n",
        "# jika dia belanja di atas 100.000 maka berikan bonus dan diskon\n",
        "if int(total_belanja) > 100000:\n",
        "  print(\"Selamat Karena Belanja > Rp. 100.000 anda mendapat Voucher Makan \")\n",
        "  print(\"dan diskon 5%\")\n",
        "  # hitung diskonnya\n",
        "  diskon = int(total_belanja) * 5/100 #5%\n",
        "  bayar = int(total_belanja) - diskon\n",
        "# cetak struk\n",
        "print(\"Total yang harus dibayar: Rp %s\" % bayar)\n",
        "print(\"Terima kasih sudah berbelanja di Toko Kami\")\n",
        "print(\"Kami Tunggu Kunjungan Anda selanjutnya.\")\n",
        ""
      ],
      "metadata": {
        "colab": {
          "base_uri": "https://localhost:8080/"
        },
        "id": "b2QWLOMpezGp",
        "outputId": "ea17f593-64c5-467d-fc9d-f615eace96cd"
      },
      "execution_count": 6,
      "outputs": [
        {
          "output_type": "stream",
          "name": "stdout",
          "text": [
            "Total belanja: Rp 100000\n",
            "Total yang harus dibayar: Rp 100000\n",
            "Terima kasih sudah berbelanja di Toko Kami\n",
            "Kami Tunggu Kunjungan Anda selanjutnya.\n"
          ]
        }
      ]
    },
    {
      "cell_type": "code",
      "source": [
        "# Variabel untuk memeriksa apakah ada notitfikasi baru\n",
        "ada_notifikasi_baru: bool = True\n",
        "\n",
        "if ada_notifikasi_baru:\n",
        "    print(\"Anda memiliki pesan baru!\")"
      ],
      "metadata": {
        "colab": {
          "base_uri": "https://localhost:8080/"
        },
        "id": "Vvhk3kppezFY",
        "outputId": "539bcecc-1ac3-4f1c-9afc-4d8872f7ada2"
      },
      "execution_count": 7,
      "outputs": [
        {
          "output_type": "stream",
          "name": "stdout",
          "text": [
            "Anda memiliki pesan baru!\n"
          ]
        }
      ]
    },
    {
      "cell_type": "code",
      "source": [
        "umur = input(\"Berapa umur kamu: \")\n",
        "if int(umur) >= 18:\n",
        "  print(\"Kamu boleh membuat SIM\")\n",
        "else:\n",
        "  print(\"Kamu belum boleh membuat SIM\")\n",
        ""
      ],
      "metadata": {
        "colab": {
          "base_uri": "https://localhost:8080/"
        },
        "id": "YcT0HTIRxDC3",
        "outputId": "eb1b0fcb-f15e-401b-a2db-b658f30a5443"
      },
      "execution_count": 8,
      "outputs": [
        {
          "output_type": "stream",
          "name": "stdout",
          "text": [
            "Berapa umur kamu: 20\n",
            "Kamu boleh membuat SIM\n"
          ]
        }
      ]
    },
    {
      "cell_type": "code",
      "source": [
        "total_belanja = float(input(\"Masukkan total belanja: Rp \"))\n",
        "if total_belanja > 200000:\n",
        "    diskon = total_belanja * 0.10\n",
        "    total_bayar = total_belanja - diskon\n",
        "    print(f\"Anda mendapat diskon! Total bayar: Rp {total_bayar:,.0f}\")\n",
        "else:\n",
        "    print(f\"Total bayar: Rp {total_belanja:,.0f}\")"
      ],
      "metadata": {
        "colab": {
          "base_uri": "https://localhost:8080/"
        },
        "id": "GtdDLz869nt2",
        "outputId": "3d4cce44-871b-402d-8640-e488c982d7b7"
      },
      "execution_count": 32,
      "outputs": [
        {
          "output_type": "stream",
          "name": "stdout",
          "text": [
            "Masukkan total belanja: Rp 200000\n",
            "Total bayar: Rp 200,000\n"
          ]
        }
      ]
    },
    {
      "cell_type": "code",
      "source": [
        "angka = int(input(\"Masukkan bilangan: \"))\n",
        "\n",
        "if angka % 2 == 0:\n",
        "    print(\"Bilangan Genap\")\n",
        "else:\n",
        "    print(\"Bilangan Ganjil\")"
      ],
      "metadata": {
        "colab": {
          "base_uri": "https://localhost:8080/"
        },
        "id": "RZ2xKrUX0QtE",
        "outputId": "0367e934-2e57-488e-9bf2-99c9a861d642"
      },
      "execution_count": 37,
      "outputs": [
        {
          "output_type": "stream",
          "name": "stdout",
          "text": [
            "Masukkan bilangan: 21\n",
            "Bilangan Ganjil\n"
          ]
        }
      ]
    },
    {
      "cell_type": "code",
      "source": [
        "nilai = 80\n",
        "if nilai >= 85:\n",
        "    print(\"Luar biasa! Nilai A\")\n",
        "elif nilai >= 70:\n",
        "    print(\"Bagus! Nilai B\")\n",
        "elif nilai >= 60:\n",
        "    print(\" Cukup> Nilai C\")\n",
        "else:\n",
        "    print(\"NIlai kurang, perlu belajar lebih giat.\")\n"
      ],
      "metadata": {
        "colab": {
          "base_uri": "https://localhost:8080/"
        },
        "id": "Lg9TzHTPAox1",
        "outputId": "ad2cbe0c-4184-4b30-f848-1d437b529f8b"
      },
      "execution_count": 41,
      "outputs": [
        {
          "output_type": "stream",
          "name": "stdout",
          "text": [
            "Bagus! Nilai B\n"
          ]
        }
      ]
    },
    {
      "cell_type": "code",
      "source": [
        "# Menentukan jenis diskon berdasarkan hari\n",
        "hari: str = \"Sabtu\"\n",
        "\n",
        "if hari== \"Sabtu\" or hari == \"Minggu\":\n",
        "    diskon: float = 0.20 # Diskon 20%\n",
        "    print(f\"Selamat! Anda mendapatkan akhir pekan sebesar {diskon*100}%.\")\n",
        "elif hari == \"Jumat\":\n",
        "     diskon: float = 0.15 # Diskon 15%\n",
        "     print(f\"Diskon spesial Jumat! Anda mendapat potongan {diskon*100}%.\")\n",
        "else:\n",
        "     diskon: float = 0.05 # Diskon 5%\n",
        "     print(f\"Anda mendapat diskon hari biasa sebesar {diskon*100}%.\")"
      ],
      "metadata": {
        "colab": {
          "base_uri": "https://localhost:8080/"
        },
        "id": "Ej0pfJ3GBlyk",
        "outputId": "fd146f8e-beb3-4ed5-deb2-936022739d73"
      },
      "execution_count": 35,
      "outputs": [
        {
          "output_type": "stream",
          "name": "stdout",
          "text": [
            "Selamat! Anda mendapatkan akhir pekan sebesar 20.0%.\n"
          ]
        }
      ]
    },
    {
      "cell_type": "code",
      "source": [
        "rupiah = int(input(\"Masukkan jumlah uang (Rp): \"))\n",
        "print(\"1. Dollar (USD)\")\n",
        "print(\"2. Euro (EUR)\")\n",
        "print(\"3. Yen (JPY)\")\n",
        "pilih = int(input(\"Pilih konversi (1/2/3): \"))\n",
        "\n",
        "if pilih == 1:\n",
        "    print(\"Dalam Dollar:\", rupiah / 15000)\n",
        "elif pilih == 2:\n",
        "    print(\"Dalam Euro:\", rupiah / 16000)\n",
        "elif pilih == 3:\n",
        "    print(\"Dalam Yen\", rupiah / 120)\n",
        "else:\n",
        "    print(\"Pilihan tidak valid\")"
      ],
      "metadata": {
        "colab": {
          "base_uri": "https://localhost:8080/"
        },
        "id": "Bba0HejjDNi6",
        "outputId": "272da55e-244a-4a9e-c8b5-589e7836c2d0"
      },
      "execution_count": 43,
      "outputs": [
        {
          "output_type": "stream",
          "name": "stdout",
          "text": [
            "Masukkan jumlah uang (Rp): 20000\n",
            "1. Dollar (USD)\n",
            "2. Euro (EUR)\n",
            "3. Yen (JPY)\n",
            "Pilih konversi (1/2/3): 3\n",
            "Dalam Yen 166.66666666666666\n"
          ]
        }
      ]
    },
    {
      "cell_type": "code",
      "source": [
        "print(\"=\" * 30)\n",
        "print(\"SELAMAT DATANG DI KAFE GEMINI\")\n",
        "print(\"=\" * 30)\n",
        "print(\"Menu Makanan & Minuman:\")\n",
        "print(\"1. Kopi Hitam    - Rp 12.000\")\n",
        "print(\"2. Teh Manis     - Rp  8.000\")\n",
        "print(\"3. Roti Bakar    - Rp 15.000\")\n",
        "print(\"4. Mie Instan    - Rp 10.000\")\n",
        "print(\"=\" * 30)\n",
        "\n",
        "daftar_pesanan = []\n",
        "total_harga = 0\n",
        "\n",
        "while True:\n",
        "    pilihan_str = input(\"Silakan masukkan nomor pilihan Anda (1-4) atau ketik 'selesai' untuk melanjutkan: \")\n",
        "\n",
        "    if pilihan_str.lower() == 'selesai':\n",
        "        break\n",
        "\n",
        "    try:\n",
        "        pilihan = int(pilihan_str)\n",
        "        nama_pesanan = \"\"\n",
        "        harga = 0\n",
        "\n",
        "        if pilihan == 1:\n",
        "            nama_pesanan = \"Kopi Hitam\"\n",
        "            harga = 12000\n",
        "        elif pilihan == 2:\n",
        "            nama_pesanan = \"Teh Manis\"\n",
        "            harga = 8000\n",
        "        elif pilihan == 3:\n",
        "            nama_pesanan = \"Roti Bakar\"\n",
        "            harga = 15000\n",
        "        elif pilihan == 4:\n",
        "            nama_pesanan = \"Mie Instan\"\n",
        "            harga = 10000\n",
        "        else:\n",
        "            print(\"Maaf, pilihan menu tidak valid. Silakan pilih 1-4.\")\n",
        "            continue\n",
        "\n",
        "        daftar_pesanan.append((nama_pesanan, harga))\n",
        "        total_harga += harga\n",
        "        print(f\"Anda memesan: {nama_pesanan} dengan harga Rp {harga}\")\n",
        "\n",
        "    except ValueError:\n",
        "        print(\"Input tidak valid. Silakan masukkan angka 1-4 atau ketik 'selesai'.\")\n",
        "\n",
        "if total_harga > 0:\n",
        "    print(\"-\" * 30)\n",
        "    print(f\"Total belanja sebelum diskon: Rp {total_harga}\")\n",
        "\n",
        "    # Menentukan diskon berdasarkan total belanja\n",
        "    if total_harga >= 100000:\n",
        "        diskon = 70\n",
        "    elif total_harga >= 70000:\n",
        "        diskon = 50\n",
        "    elif total_harga >= 50000:\n",
        "        diskon = 30\n",
        "    else:\n",
        "        diskon = 0\n",
        "\n",
        "    if diskon > 0:\n",
        "        jumlah_diskon = total_harga * diskon / 100\n",
        "        total_setelah_diskon = total_harga - jumlah_diskon\n",
        "        print(f\"Selamat! Anda mendapatkan diskon {diskon}%\")\n",
        "        print(f\"Jumlah diskon: Rp {jumlah_diskon:.0f}\")\n",
        "        print(f\"Total setelah diskon: Rp {total_setelah_diskon:.0f}\")\n",
        "    else:\n",
        "        total_setelah_diskon = total_harga\n",
        "        print(\"Maaf, Anda belum memenuhi syarat untuk mendapatkan diskon.\")\n",
        "\n",
        "    print(\"-\" * 30)\n",
        "    uang_dibayar_str = input(f\"Total yang harus dibayar: Rp {total_setelah_diskon:.0f}. Masukkan jumlah uang Anda: Rp \")\n",
        "\n",
        "    try:\n",
        "        uang_dibayar = int(uang_dibayar_str)\n",
        "\n",
        "        if uang_dibayar >= total_setelah_diskon:\n",
        "            kembalian = uang_dibayar - total_setelah_diskon\n",
        "            print(\"\\n--- Struk Pembayaran ---\")\n",
        "            print(\"Pesanan Anda:\")\n",
        "            for pesanan, harga_pesanan in daftar_pesanan:\n",
        "                print(f\"  - {pesanan}: Rp {harga_pesanan}\")\n",
        "            print(f\"Total Harga: Rp {total_harga}\")\n",
        "            if diskon > 0:\n",
        "                print(f\"Diskon: {diskon}%\")\n",
        "                print(f\"Total Setelah Diskon: Rp {total_setelah_diskon:.0f}\")\n",
        "            print(f\"Uang Pembayaran: Rp {uang_dibayar}\")\n",
        "            print(f\"Kembalian: Rp {kembalian:.0f}\")\n",
        "            print(\"---\")\n",
        "            print(\"Terima kasih telah berbelanja!\")\n",
        "        else:\n",
        "            kekurangan = total_setelah_diskon - uang_dibayar\n",
        "            print(f\"Maaf, uang Anda kurang sebesar Rp {kekurangan:.0f}.\")\n",
        "\n",
        "    except ValueError:\n",
        "        print(\"Input uang tidak valid. Harap masukkan angka.\")\n",
        "else:\n",
        "    print(\"Tidak ada pesanan. Terima kasih telah berkunjung.\")\n",
        "\n",
        "print(\"=\" * 30)"
      ],
      "metadata": {
        "colab": {
          "base_uri": "https://localhost:8080/"
        },
        "id": "0WmNqax8UrTO",
        "outputId": "024e4998-80e4-447f-b5c2-969289e5fbe8"
      },
      "execution_count": 45,
      "outputs": [
        {
          "output_type": "stream",
          "name": "stdout",
          "text": [
            "==============================\n",
            "SELAMAT DATANG DI KAFE GEMINI\n",
            "==============================\n",
            "Menu Makanan & Minuman:\n",
            "1. Kopi Hitam    - Rp 12.000\n",
            "2. Teh Manis     - Rp  8.000\n",
            "3. Roti Bakar    - Rp 15.000\n",
            "4. Mie Instan    - Rp 10.000\n",
            "==============================\n",
            "Silakan masukkan nomor pilihan Anda (1-4) atau ketik 'selesai' untuk melanjutkan: 2\n",
            "Anda memesan: Teh Manis dengan harga Rp 8000\n",
            "Silakan masukkan nomor pilihan Anda (1-4) atau ketik 'selesai' untuk melanjutkan: 3\n",
            "Anda memesan: Roti Bakar dengan harga Rp 15000\n",
            "Silakan masukkan nomor pilihan Anda (1-4) atau ketik 'selesai' untuk melanjutkan: 4\n",
            "Anda memesan: Mie Instan dengan harga Rp 10000\n",
            "Silakan masukkan nomor pilihan Anda (1-4) atau ketik 'selesai' untuk melanjutkan: selesai\n",
            "------------------------------\n",
            "Total belanja sebelum diskon: Rp 33000\n",
            "Maaf, Anda belum memenuhi syarat untuk mendapatkan diskon.\n",
            "------------------------------\n",
            "Total yang harus dibayar: Rp 33000. Masukkan jumlah uang Anda: Rp 40000\n",
            "\n",
            "--- Struk Pembayaran ---\n",
            "Pesanan Anda:\n",
            "  - Teh Manis: Rp 8000\n",
            "  - Roti Bakar: Rp 15000\n",
            "  - Mie Instan: Rp 10000\n",
            "Total Harga: Rp 33000\n",
            "Uang Pembayaran: Rp 40000\n",
            "Kembalian: Rp 7000\n",
            "---\n",
            "Terima kasih telah berbelanja!\n",
            "==============================\n"
          ]
        }
      ]
    }
  ]
}